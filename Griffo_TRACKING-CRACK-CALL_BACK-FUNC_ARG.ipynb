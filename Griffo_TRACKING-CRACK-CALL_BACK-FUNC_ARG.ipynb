{
 "cells": [
  {
   "cell_type": "code",
   "execution_count": 1,
   "metadata": {},
   "outputs": [],
   "source": [
    "import numpy as np\n",
    "import random\n",
    "import copy\n",
    "from random import randrange\n",
    "from scipy import stats\n",
    "from sklearn.linear_model import LinearRegression\n",
    "import matplotlib.pyplot as plt\n",
    "from numba import jit\n",
    "#from copy import deepcopy"
   ]
  },
  {
   "cell_type": "code",
   "execution_count": 2,
   "metadata": {},
   "outputs": [],
   "source": [
    "@jit(nopython= True)\n",
    "def energy_grif (leng, sigma):\n",
    "    return  - np.divide ( np.power(leng,3) * np.power(sigma,2), 24) +   leng\n",
    "\n",
    "#    return leng * 3.7/6"
   ]
  },
  {
   "cell_type": "code",
   "execution_count": 3,
   "metadata": {},
   "outputs": [],
   "source": [
    "ccrit = np.sqrt(8)/0.5\n",
    "Ecrit = energy_grif(ccrit, 0.5)"
   ]
  },
  {
   "cell_type": "code",
   "execution_count": 4,
   "metadata": {},
   "outputs": [],
   "source": [
    "@jit(nopython= True)\n",
    "def energy_ising (leng, sigma):\n",
    "#    return - np.divide ( np.power(leng,3) * np.power(sigma,2), 24) +   leng\n",
    "    return leng * Ecrit/6\n"
   ]
  },
  {
   "cell_type": "code",
   "execution_count": 5,
   "metadata": {},
   "outputs": [
    {
     "data": {
      "image/png": "[encoded data removed]",
      "text/plain": [
       "<Figure size 432x288 with 1 Axes>"
      ]
     },
     "metadata": {
      "needs_background": "light"
     },
     "output_type": "display_data"
    }
   ],
   "source": [
    "x = np.linspace(0,11,20)\n",
    "y = energy_grif(x,0.5)\n",
    "fig, ax = plt.subplots()\n",
    "ax.plot(x, y)\n",
    "\n",
    "ax.set(xlabel='len', ylabel='E',\n",
    "       title='Griffo')\n",
    "ax.grid()\n",
    "\n",
    "plt.show()"
   ]
  },
  {
   "cell_type": "code",
   "execution_count": 6,
   "metadata": {},
   "outputs": [
    {
     "data": {
      "text/plain": [
       "<matplotlib.legend.Legend at 0x7fd39dd5d820>"
      ]
     },
     "execution_count": 6,
     "metadata": {},
     "output_type": "execute_result"
    },
    {
     "data": {
      "image/png": "[encoded data removed]",
      "text/plain": [
       "<Figure size 432x288 with 1 Axes>"
      ]
     },
     "metadata": {
      "needs_background": "light"
     },
     "output_type": "display_data"
    }
   ],
   "source": [
    "x = np.linspace(0,11,20)\n",
    "y1 = energy_grif(x,0.5)\n",
    "y2 = energy_ising(x,0.5)\n",
    "plt.plot(x, y1,label='Griffo')\n",
    "plt.plot(x, y2, label='Ising')\n",
    "plt.legend()"
   ]
  },
  {
   "cell_type": "code",
   "execution_count": 7,
   "metadata": {},
   "outputs": [],
   "source": [
    "@jit(nopython= True)\n",
    "def start_config(size,  sigma, T, energy_func):\n",
    "    prob = np.exp(-energy_func(1,sigma)/T)\n",
    "    con = np.zeros(size)\n",
    "    rand_unif = np.random.uniform(0,1,size)\n",
    "    for i in range(size):\n",
    "        if rand_unif[i] < prob:\n",
    "            con[i] = 1\n",
    "        else:\n",
    "            con[i] = 0\n",
    "    return con"
   ]
  },
  {
   "cell_type": "code",
   "execution_count": 8,
   "metadata": {},
   "outputs": [],
   "source": [
    "@jit(nopython= True)\n",
    "def energy_config(vect,sigma):\n",
    " griffo = 1\n",
    " ene = np.zeros(len(vect))\n",
    " for i in range (1,len(vect)):\n",
    "  ene[i-1] = vect[i-1] * (griffo*(i) - sigma**2*(i/2)**3/3 )\n",
    " energy = np.sum(ene)\n",
    " return energy"
   ]
  },
  {
   "cell_type": "code",
   "execution_count": 9,
   "metadata": {},
   "outputs": [],
   "source": [
    "@jit(nopython= True)\n",
    "def countRightCirc(x,i,size):\n",
    "    z = 1\n",
    "    while (x[(i+z)%size]==1):\n",
    "        z = z + 1\n",
    "    return z"
   ]
  },
  {
   "cell_type": "code",
   "execution_count": 10,
   "metadata": {},
   "outputs": [],
   "source": [
    "@jit(nopython= True)\n",
    "def countLeftCirc(x,i,size):\n",
    "    z = 1\n",
    "    while (x[(i-z)%size]==1):\n",
    "        z = z + 1\n",
    "    return z"
   ]
  },
  {
   "cell_type": "code",
   "execution_count": 11,
   "metadata": {},
   "outputs": [],
   "source": [
    "@jit(nopython= True)\n",
    "def rollstart(b):\n",
    "    return np.where(b==0)\n",
    "        "
   ]
  },
  {
   "cell_type": "code",
   "execution_count": 12,
   "metadata": {},
   "outputs": [],
   "source": [
    "@jit(nopython= True)\n",
    "def config_count(b):\n",
    "    c = np.roll(b,-np.where(b==0)[0][0])\n",
    "    leng = 0\n",
    "    res = np.zeros(len(b))\n",
    "    for i in range(1,len(b)): \n",
    "        if (c[i]==0 and c[i-1]==1):\n",
    "            res[leng-1] = res[leng-1]+1\n",
    "            leng=0\n",
    "        if (c[i]==1):\n",
    "            leng = leng+1\n",
    "    if c[len(b)-1]==1:\n",
    "        res[leng-1]=res[leng-1]+1\n",
    "    return res"
   ]
  },
  {
   "cell_type": "code",
   "execution_count": 13,
   "metadata": {},
   "outputs": [],
   "source": [
    "@jit(nopython= True)\n",
    "def maxCrackLen (b):\n",
    "    return 1 + np.argmax ( np.multiply (np.arange(b.size), config_count(b) ) )"
   ]
  },
  {
   "cell_type": "code",
   "execution_count": 14,
   "metadata": {},
   "outputs": [],
   "source": [
    "@jit(nopython= True)\n",
    "def newEnergy(vect,sigma, i, flag, energy_func):\n",
    "    siz = vect.size\n",
    "    randelem = i\n",
    "    cR = countRightCirc(vect,randelem, siz)-1\n",
    "    cL = countLeftCirc(vect,randelem, siz)-1\n",
    "    deltaEnergy = - energy_func(cR, sigma) - energy_func(cL, sigma) + energy_func(cR + cL +1, sigma)\n",
    "    if vect[randelem]==1:\n",
    "        deltaEnergy = - deltaEnergy\n",
    "    else:\n",
    "  #          crackmax = max(crackmax, cR + cL +1)\n",
    "        if cR + cL + 1 >= 6:\n",
    "           flag = 1\n",
    "    return deltaEnergy, flag"
   ]
  },
  {
   "cell_type": "code",
   "execution_count": 15,
   "metadata": {},
   "outputs": [],
   "source": [
    "@jit(nopython= True)\n",
    "def swap (b,i):\n",
    "    aux = np.copy(b)\n",
    "    if aux[i] ==1:\n",
    "     aux[i] = 0\n",
    "    else:\n",
    "     aux[i]=1\n",
    "    return aux\n",
    "\n"
   ]
  },
  {
   "cell_type": "code",
   "execution_count": 16,
   "metadata": {},
   "outputs": [],
   "source": [
    "@jit(nopython= True)\n",
    "def mainIter(config, size, sigma, T, flag, energy_func):\n",
    "    randelem = randrange(1,size)\n",
    "    aux1 = newEnergy(config, sigma, randelem, flag, energy_func)\n",
    "    deltaEne = aux1[0]\n",
    "    alfa = np.amin(np.array([1, np.exp(-(1/T)*(deltaEne) )] ))\n",
    "    beta = random.uniform(0,1)\n",
    "    if beta < alfa:\n",
    "#            en_old = en_new\n",
    "            config = swap(config,randelem)\n",
    "            flag = aux1[1]\n",
    "    else:\n",
    "        deltaEne = 0\n",
    "    return config, deltaEne, flag\n",
    "    "
   ]
  },
  {
   "cell_type": "code",
   "execution_count": 17,
   "metadata": {},
   "outputs": [],
   "source": [
    "@jit\n",
    "def tempvec(temp,realis):\n",
    "    tot = realis * temp.size\n",
    "    tempvec  = np.zeros(tot)\n",
    "    for i in range(tot):\n",
    "        tempvec[i] = temp[i//realis] \n",
    "    return tempvec\n",
    "@jit \n",
    "def start_config_vec(temp,realis,siz, sigma, energy_func):\n",
    "    tot = realis * temp.size\n",
    "    startConfigVec  = np.zeros((tot,siz))\n",
    "    for i in range(tot):\n",
    "        startConfigVec[i,:] = start_config(siz, sigma, tempvec(temp,realis)[i], energy_func)\n",
    "    return startConfigVec"
   ]
  },
  {
   "cell_type": "code",
   "execution_count": 18,
   "metadata": {},
   "outputs": [],
   "source": [
    "@jit(nopython= True, parallel = False)\n",
    "def MainVecto(sigma, tempe,size, realis, energy_func):\n",
    "    tot = realis * tempe.size\n",
    "    time = 0\n",
    "    #ene = np.zeros(tot)\n",
    "    flag = np.zeros(tot)\n",
    "#    crack_old  = np.zeros(tot)\n",
    "    metatime = np.zeros(tot)\n",
    "    conf_init = start_config_vec(tempe, realis, size, sigma, energy_func)\n",
    "    conf_old = np.copy(conf_init)\n",
    "#   en_old = np.zeros(tot)\n",
    "    metaconf = np.empty((tot,size))\n",
    "    metaconf_old = np.empty((tot,size))\n",
    "  \n",
    "    #randprcrack = np.zeros(tot)\n",
    "    #for i in range (tot):\n",
    "    #    ene[i]=energy_config(config_count(conf_old[i,:]), sigma)\n",
    "    #aux= np.zeros((tot,2))\n",
    "    tempvecto=tempvec(tempe,realis)\n",
    "    while np.amin(flag) == 0:\n",
    "        for i in range(tot):\n",
    "            if metatime[i]==0:\n",
    "                aux= mainIter(conf_old[i,:], size, sigma,tempvecto[i], flag[i], energy_func )\n",
    "                metaconf_old[i,:] = conf_old[i,:]\n",
    "#                crack_old[i] = crack[i]\n",
    "                conf_old[i,:] = aux[0]\n",
    "#                en_old[i] = aux[1]\n",
    "                #ene[i] = ene[i] + aux[1]\n",
    "                flag[i] = aux[2]\n",
    "#            metatime[i] = np.where(en_old[i] < 0 , np.where(metatime[i] !=0, metatime[i] , time), metatime[i] )\n",
    "\n",
    "                if flag[i] == 1:\n",
    "                        metatime[i] = time\n",
    "                        metaconf[i,:] = conf_old[i,:]\n",
    "                else:\n",
    "                        pass\n",
    "            else:\n",
    "                pass\n",
    "            time = time + 1\n",
    "    return metatime, metaconf, metaconf_old, time, flag, conf_init"
   ]
  },
  {
   "cell_type": "code",
   "execution_count": 19,
   "metadata": {},
   "outputs": [
    {
     "name": "stdout",
     "output_type": "stream",
     "text": [
      "CPU times: user 2min 30s, sys: 960 ms, total: 2min 31s\n",
      "Wall time: 2min 32s\n"
     ]
    }
   ],
   "source": [
    "%%time\n",
    "#crack_max = np.zeros(tot)\n",
    "realisations = 50\n",
    "#temp = np.array([0.25,0.26, 0.27, 0.28, 0.35,0.375,0.4,0.425,0.45,0.475,0.5])\n",
    "temp = np.array([0.25, 0.3, 0.35,  0.4, 0.5, 0.6])\n",
    "#temp = np.array([0.25, 0.3, 0.35,  0.4])\n",
    "#temp = np.array([ 0.7])\n",
    "res3full_grif = MainVecto(0.5,temp,1000,realisations, energy_grif)\n",
    "res3_grif = res3full_grif[0]\n",
    "endtime_grif = res3full_grif[3]\n",
    "maxcra_grif = res3full_grif[4]\n",
    "res3full_ising = MainVecto(0.5,temp,1000,realisations, energy_ising)\n",
    "res3_ising = res3full_ising[0]\n",
    "endtime_ising = res3full_ising[3]\n",
    "maxcra_ising = res3full_ising[4]"
   ]
  },
  {
   "cell_type": "code",
   "execution_count": 20,
   "metadata": {},
   "outputs": [],
   "source": [
    "res30_grif = np.reshape(res3_grif,(temp.size,realisations))\n",
    "res30_ising = np.reshape(res3_ising,(temp.size,realisations))"
   ]
  },
  {
   "cell_type": "code",
   "execution_count": 21,
   "metadata": {},
   "outputs": [
    {
     "data": {
      "text/plain": [
       "(array([19.30867493, 17.53783781, 15.32962319, 14.48604493, 13.22400031,\n",
       "        11.73842576]),\n",
       " array([18.91970046, 16.31247029, 15.47034831, 14.04715612, 12.2542957 ,\n",
       "        10.73198944]))"
      ]
     },
     "execution_count": 21,
     "metadata": {},
     "output_type": "execute_result"
    }
   ],
   "source": [
    "# Take care of cases where energy threshold was hit before writing metastability time\n",
    "res301_grif = np.where(res30_grif ==0, res3full_grif[3], res30_grif)\n",
    "meantimes_grif = np.mean(np.log(res301_grif), axis=1)\n",
    "res301_ising = np.where(res30_ising ==0, res3full_ising[3], res30_ising)\n",
    "meantimes_ising = np.mean(np.log(res301_ising), axis=1)\n",
    "#meantimes = np.mean(res1, axis=1)\n",
    "meantimes_grif, meantimes_ising"
   ]
  },
  {
   "cell_type": "code",
   "execution_count": 22,
   "metadata": {},
   "outputs": [
    {
     "data": {
      "text/plain": [
       "3.910845259549803"
      ]
     },
     "execution_count": 22,
     "metadata": {},
     "output_type": "execute_result"
    }
   ],
   "source": [
    "(meantimes_grif[0]-meantimes_grif[1]) / (1/temp[0]-1/temp[1])\n",
    "(meantimes_ising[0]-meantimes_ising[1]) / (1/temp[0]-1/temp[1])"
   ]
  },
  {
   "cell_type": "code",
   "execution_count": 23,
   "metadata": {},
   "outputs": [
    {
     "data": {
      "text/plain": [
       "array([4.        , 3.33333333, 2.85714286, 2.5       , 2.        ,\n",
       "       1.66666667])"
      ]
     },
     "execution_count": 23,
     "metadata": {},
     "output_type": "execute_result"
    }
   ],
   "source": [
    "tempInverse = 1/temp\n",
    "tempInverse"
   ]
  },
  {
   "cell_type": "code",
   "execution_count": 24,
   "metadata": {},
   "outputs": [
    {
     "data": {
      "text/plain": [
       "<matplotlib.legend.Legend at 0x7fd39e42b190>"
      ]
     },
     "execution_count": 24,
     "metadata": {},
     "output_type": "execute_result"
    },
    {
     "data": {
      "image/png": "[encoded data removed]",
      "text/plain": [
       "<Figure size 432x288 with 1 Axes>"
      ]
     },
     "metadata": {
      "needs_background": "light"
     },
     "output_type": "display_data"
    }
   ],
   "source": [
    "plt.plot(tempInverse, meantimes_grif,label='Griffo')\n",
    "plt.plot(tempInverse, meantimes_ising, label='Ising')\n",
    "ccrit = np.sqrt(8)/0.5\n",
    "Ecrit = energy_grif(ccrit, 0.5)\n",
    "#plt.plot(tempInverse, tempInverse * Ecrit + 7.9, label='Linear')\n",
    "plt.legend()"
   ]
  },
  {
   "cell_type": "code",
   "execution_count": 25,
   "metadata": {},
   "outputs": [
    {
     "data": {
      "text/plain": [
       "<matplotlib.legend.Legend at 0x7fd39e3e1790>"
      ]
     },
     "execution_count": 25,
     "metadata": {},
     "output_type": "execute_result"
    },
    {
     "data": {
      "image/png": "[encoded data removed]",
      "text/plain": [
       "<Figure size 432x288 with 1 Axes>"
      ]
     },
     "metadata": {
      "needs_background": "light"
     },
     "output_type": "display_data"
    }
   ],
   "source": [
    "plt.plot(tempInverse, meantimes_grif,label='Griffo')\n",
    "ccrit = np.sqrt(8)/0.5\n",
    "Ecrit = energy_grif(ccrit, 0.5)\n",
    "plt.plot(tempInverse, tempInverse * Ecrit + 6. , label='Linear')\n",
    "plt.plot(tempInverse, meantimes_ising, label='Ising')\n",
    "plt.legend()"
   ]
  },
  {
   "cell_type": "code",
   "execution_count": 26,
   "metadata": {},
   "outputs": [
    {
     "data": {
      "text/plain": [
       "5.656854249492381"
      ]
     },
     "execution_count": 26,
     "metadata": {},
     "output_type": "execute_result"
    }
   ],
   "source": [
    "ccrit\n"
   ]
  },
  {
   "cell_type": "code",
   "execution_count": 27,
   "metadata": {},
   "outputs": [
    {
     "data": {
      "text/plain": [
       "(3.771236166328253, 3.75)"
      ]
     },
     "execution_count": 27,
     "metadata": {},
     "output_type": "execute_result"
    }
   ],
   "source": [
    "energy_ising(6,0.5), energy_grif(6,0.5)"
   ]
  },
  {
   "cell_type": "code",
   "execution_count": 28,
   "metadata": {},
   "outputs": [],
   "source": [
    "def saddle_ising (beta):\n",
    "    return (1/beta)*np.log(np.exp(beta*energy_ising(6,0.5)) + np.exp(beta*(energy_ising(5,0.5) + energy_ising(1,0.5))) \n",
    "           +  np.exp(beta*(energy_ising(4,0.5) + energy_ising(2,0.5))) \n",
    "           +  np.exp(beta*(energy_ising(3,0.5) + energy_ising(3,0.5)))  )"
   ]
  },
  {
   "cell_type": "code",
   "execution_count": 29,
   "metadata": {},
   "outputs": [],
   "source": [
    "def saddle_grif (beta):\n",
    "    return (1/beta)*np.log(np.exp(beta*energy_grif(6,0.5)) + np.exp(beta*(energy_grif(5,0.5) + energy_grif(1,0.5))) \n",
    "           +  np.exp(beta*(energy_grif(4,0.5) + energy_grif(2,0.5))) \n",
    "           +  np.exp(beta*(energy_grif(3,0.5) + energy_grif(3,0.5)))  )\n",
    "    "
   ]
  },
  {
   "cell_type": "code",
   "execution_count": 30,
   "metadata": {},
   "outputs": [],
   "source": [
    "def saddle_ising (beta):\n",
    "    return (1/beta)*np.log(np.exp(beta*energy_ising(6,0.5)) +\n",
    "           +  np.exp(beta*(energy_ising(2,0.5)) )+  np.exp(beta*(energy_ising(1,0.5))))"
   ]
  },
  {
   "cell_type": "code",
   "execution_count": 31,
   "metadata": {},
   "outputs": [],
   "source": [
    "def saddle_grif (beta):\n",
    "    return (1/beta)*np.log(np.exp(beta*energy_grif(6,0.5)) +\n",
    "           +  np.exp(beta*(energy_grif(2,0.5)) )+  np.exp(beta*(energy_grif(1,0.5))))"
   ]
  },
  {
   "cell_type": "code",
   "execution_count": 32,
   "metadata": {},
   "outputs": [],
   "source": [
    "# def saddle_ising (beta):\n",
    "#     return  np.log (np.exp(beta*5) + np.exp(beta*2)\n",
    "#   )"
   ]
  },
  {
   "cell_type": "code",
   "execution_count": 33,
   "metadata": {},
   "outputs": [],
   "source": [
    "# def saddle_grif (beta):\n",
    "#     return np.log(np.exp(beta*5) + np.exp(beta*2)\n",
    "#  )"
   ]
  },
  {
   "cell_type": "code",
   "execution_count": 34,
   "metadata": {},
   "outputs": [
    {
     "data": {
      "text/plain": [
       "<matplotlib.legend.Legend at 0x7fd39e2ea040>"
      ]
     },
     "execution_count": 34,
     "metadata": {},
     "output_type": "execute_result"
    },
    {
     "data": {
      "image/png": "[encoded data removed]",
      "text/plain": [
       "<Figure size 432x288 with 1 Axes>"
      ]
     },
     "metadata": {
      "needs_background": "light"
     },
     "output_type": "display_data"
    }
   ],
   "source": [
    "beta_range = np.linspace(1,4.0, num=20)\n",
    "saddle_ising_res = saddle_ising(beta_range)\n",
    "saddle_grif_res = saddle_grif(beta_range)\n",
    "plt.plot(beta_range, 1.0*saddle_grif_res,label='Griffo')\n",
    "plt.plot(beta_range, saddle_ising_res, label='Ising')\n",
    "plt.legend()"
   ]
  },
  {
   "cell_type": "code",
   "execution_count": null,
   "metadata": {},
   "outputs": [],
   "source": []
  }
 ],
 "metadata": {
  "kernelspec": {
   "display_name": "Python 3 (ipykernel)",
   "language": "python",
   "name": "python3"
  },
  "language_info": {
   "codemirror_mode": {
    "name": "ipython",
    "version": 3
   },
   "file_extension": ".py",
   "mimetype": "text/x-python",
   "name": "python",
   "nbconvert_exporter": "python",
   "pygments_lexer": "ipython3",
   "version": "3.9.7"
  }
 },
 "nbformat": 4,
 "nbformat_minor": 4
}
